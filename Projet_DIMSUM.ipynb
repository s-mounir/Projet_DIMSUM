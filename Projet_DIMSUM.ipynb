{
 "cells": [
  {
   "cell_type": "markdown",
   "metadata": {},
   "source": [
    "# Dimension Independent Matrix Square using MapReduce"
   ]
  },
  {
   "cell_type": "markdown",
   "metadata": {},
   "source": [
    "Le projet est basé sur les travaux  de Reza Bosagh Zadeh and Gunnar Carlsson qui développent une nouvelle manière de calculer le produit d’une matrice et de sa transposée. Nous considérons donc une matrice $A$ de taille $n \\times p$ dont les entrées ont valeur dans $\\left[-1;1\\right]$ avec $n > p$. Nous cherchons à calculer la matrice $A^T A$. Dans ce cas précis, MapReduce est l’outil idéal pour manipuler ce genre de données. "
   ]
  },
  {
   "cell_type": "markdown",
   "metadata": {},
   "source": [
    "## 1. Calculs préliminaires"
   ]
  },
  {
   "cell_type": "code",
   "execution_count": 1,
   "metadata": {
    "collapsed": true,
    "scrolled": true
   },
   "outputs": [],
   "source": [
    "# Importation des packages\n",
    "import numpy as np\n",
    "import pandas\n",
    "import pyspark\n",
    "import math\n",
    "import time\n",
    "\n",
    "from operator import add"
   ]
  },
  {
   "cell_type": "code",
   "execution_count": 2,
   "metadata": {
    "collapsed": false,
    "scrolled": true
   },
   "outputs": [],
   "source": [
    "# Création de la matrice n lignes et p colonnes\n",
    "mat= np.random.uniform(-1,1,size=(100,10))\n",
    "n=mat.shape[0]\n",
    "p=mat.shape[1]\n",
    "nb=range(n)\n",
    "mat=np.insert(mat, 0, range(n), axis = 1)"
   ]
  },
  {
   "cell_type": "code",
   "execution_count": 3,
   "metadata": {
    "collapsed": false,
    "scrolled": false
   },
   "outputs": [
    {
     "data": {
      "text/plain": [
       "array([[  0.00000000e+00,   8.60217130e-01,  -4.43845173e-01, ...,\n",
       "          6.65345387e-01,  -2.50346925e-01,   6.77912027e-01],\n",
       "       [  1.00000000e+00,   3.73621335e-01,  -8.33269714e-01, ...,\n",
       "          6.89988918e-01,   8.47182291e-02,   9.41167457e-01],\n",
       "       [  2.00000000e+00,  -5.13759800e-01,  -1.96709185e-01, ...,\n",
       "         -8.12848010e-01,   3.23638518e-01,   5.43348625e-01],\n",
       "       ..., \n",
       "       [  9.70000000e+01,  -1.75130472e-01,  -4.13002449e-01, ...,\n",
       "         -2.11882133e-01,  -1.89418284e-01,  -2.24150152e-01],\n",
       "       [  9.80000000e+01,   9.46566542e-01,   5.45271335e-01, ...,\n",
       "         -1.36524068e-01,   8.32476919e-01,   6.61663116e-01],\n",
       "       [  9.90000000e+01,  -7.46032352e-01,   6.04904536e-01, ...,\n",
       "         -5.77618509e-01,  -6.05690717e-02,   5.70018559e-01]])"
      ]
     },
     "execution_count": 3,
     "metadata": {},
     "output_type": "execute_result"
    }
   ],
   "source": [
    "mat"
   ]
  },
  {
   "cell_type": "code",
   "execution_count": 4,
   "metadata": {
    "collapsed": false,
    "scrolled": true
   },
   "outputs": [],
   "source": [
    "np.savetxt(\"A.csv\",mat,fmt='%1.3f',delimiter=',')\n",
    "A=sc.textFile(\"A.csv\").map(lambda line: line.split(\",\")).map(lambda line: [float(i) for i in line])"
   ]
  },
  {
   "cell_type": "markdown",
   "metadata": {},
   "source": [
    "On modifie la matrice en un tableau de trois colonnes (index ligne, index colonne, valeur)."
   ]
  },
  {
   "cell_type": "code",
   "execution_count": 5,
   "metadata": {
    "collapsed": true,
    "scrolled": true
   },
   "outputs": [],
   "source": [
    "def process_mat_row(row):\n",
    "    index = int(row[0])\n",
    "    row = row[1:]\n",
    "    return [[index, j, v] for j, v in enumerate(row)]"
   ]
  },
  {
   "cell_type": "code",
   "execution_count": 6,
   "metadata": {
    "collapsed": false,
    "scrolled": true
   },
   "outputs": [
    {
     "data": {
      "text/plain": [
       "[[0, 0, 0.86],\n",
       " [0, 1, -0.444],\n",
       " [0, 2, -0.156],\n",
       " [0, 3, 0.86],\n",
       " [0, 4, -0.131],\n",
       " [0, 5, 0.312],\n",
       " [0, 6, -0.613],\n",
       " [0, 7, 0.665],\n",
       " [0, 8, -0.25],\n",
       " [0, 9, 0.678],\n",
       " [1, 0, 0.374],\n",
       " [1, 1, -0.833]]"
      ]
     },
     "execution_count": 6,
     "metadata": {},
     "output_type": "execute_result"
    }
   ],
   "source": [
    "new_A = A.flatMap(process_mat_row)\n",
    "new_A.take(12)"
   ]
  },
  {
   "cell_type": "markdown",
   "metadata": {},
   "source": [
    "## 2. Méthode naïve"
   ]
  },
  {
   "cell_type": "markdown",
   "metadata": {},
   "source": [
    "### Algorithme 1"
   ]
  },
  {
   "cell_type": "code",
   "execution_count": 7,
   "metadata": {
    "collapsed": true,
    "scrolled": true
   },
   "outputs": [],
   "source": [
    "# On récupère tout d'abord les a_ij: on a ligne, (colonne,valeur): la clé est sur la ligne\n",
    "def a_ij(row):\n",
    "    return row[0], (row[1], row[2])"
   ]
  },
  {
   "cell_type": "code",
   "execution_count": 8,
   "metadata": {
    "collapsed": false,
    "scrolled": true
   },
   "outputs": [
    {
     "data": {
      "text/plain": [
       "[(0, ((0, 0.86), (0, 0.86))),\n",
       " (0, ((0, 0.86), (1, -0.444))),\n",
       " (0, ((0, 0.86), (2, -0.156))),\n",
       " (0, ((0, 0.86), (3, 0.86))),\n",
       " (0, ((0, 0.86), (4, -0.131))),\n",
       " (0, ((0, 0.86), (5, 0.312))),\n",
       " (0, ((0, 0.86), (6, -0.613))),\n",
       " (0, ((0, 0.86), (7, 0.665))),\n",
       " (0, ((0, 0.86), (8, -0.25))),\n",
       " (0, ((0, 0.86), (9, 0.678))),\n",
       " (0, ((1, -0.444), (0, 0.86))),\n",
       " (0, ((1, -0.444), (1, -0.444))),\n",
       " (0, ((1, -0.444), (2, -0.156))),\n",
       " (0, ((1, -0.444), (3, 0.86))),\n",
       " (0, ((1, -0.444), (4, -0.131)))]"
      ]
     },
     "execution_count": 8,
     "metadata": {},
     "output_type": "execute_result"
    }
   ],
   "source": [
    "# On récupère ensuite les deux valeurs a_ij et a_ik associé au même i(clé) pour tous les j et k\n",
    "mat_join_naive = new_A.map(a_ij).join(new_A.map(a_ij))\n",
    "mat_join_naive.take(15)"
   ]
  },
  {
   "cell_type": "code",
   "execution_count": 9,
   "metadata": {
    "collapsed": true,
    "scrolled": true
   },
   "outputs": [],
   "source": [
    "# On fait la multiplication a_ij*a_ik, on garde les j et k en clé\n",
    "def produit_matrice(row):\n",
    "    index, ((j, vij), (k, vik)) = row\n",
    "    return j, k, vij*vik"
   ]
  },
  {
   "cell_type": "code",
   "execution_count": 10,
   "metadata": {
    "collapsed": false,
    "scrolled": true
   },
   "outputs": [
    {
     "data": {
      "text/plain": [
       "[(0, 0, 0.7395999999999999),\n",
       " (0, 1, -0.38184),\n",
       " (0, 2, -0.13416),\n",
       " (0, 3, 0.7395999999999999),\n",
       " (0, 4, -0.11266),\n",
       " (0, 5, 0.26832),\n",
       " (0, 6, -0.52718),\n",
       " (0, 7, 0.5719000000000001),\n",
       " (0, 8, -0.215),\n",
       " (0, 9, 0.58308),\n",
       " (1, 0, -0.38184),\n",
       " (1, 1, 0.197136)]"
      ]
     },
     "execution_count": 10,
     "metadata": {},
     "output_type": "execute_result"
    }
   ],
   "source": [
    "mat_produit_naive = mat_join_naive.map(produit_matrice)\n",
    "mat_produit_naive.take(12)"
   ]
  },
  {
   "cell_type": "markdown",
   "metadata": {},
   "source": [
    "### Algorithme 2"
   ]
  },
  {
   "cell_type": "code",
   "execution_count": 11,
   "metadata": {
    "collapsed": false,
    "scrolled": true
   },
   "outputs": [],
   "source": [
    "# On crée une nouvelle clé\n",
    "mat_produit_key_naive = mat_produit_naive.map(lambda row: ((row[0], row[1]), row[2]))\n",
    "\n",
    "# On additionne par clé\n",
    "mat_finale_naive = mat_produit_key_naive.reduceByKey(add)\n",
    "\n",
    "# Matrice finale \n",
    "AT_A_naive = mat_finale_naive.collect()\n",
    "AT_A_naive.sort()\n",
    "#AT_A #On obtient bien une matrice 10*10"
   ]
  },
  {
   "cell_type": "code",
   "execution_count": 12,
   "metadata": {
    "collapsed": false,
    "scrolled": true
   },
   "outputs": [
    {
     "data": {
      "text/plain": [
       "array([[  3.24452250e+01,  -1.40396300e+00,   4.32892100e+00,\n",
       "          3.00703100e+00,  -1.85982900e+00,  -6.89354000e-01,\n",
       "         -7.47093600e+00,   2.05804200e+00,   8.69336000e-01,\n",
       "          1.76682700e+00],\n",
       "       [ -1.40396300e+00,   3.92347690e+01,  -1.48056300e+00,\n",
       "          1.18330600e+00,  -3.59645000e-01,  -1.59124800e+00,\n",
       "         -3.61449600e+00,  -3.97248500e+00,   1.84601900e+00,\n",
       "          4.95970200e+00],\n",
       "       [  4.32892100e+00,  -1.48056300e+00,   3.28025080e+01,\n",
       "          2.84696200e+00,   1.22969700e+00,   2.30929700e+00,\n",
       "         -3.28962000e-01,   3.74747900e+00,   7.84522000e-01,\n",
       "         -1.75377600e+00],\n",
       "       [  3.00703100e+00,   1.18330600e+00,   2.84696200e+00,\n",
       "          3.35308470e+01,  -2.47654000e-01,  -1.10997300e+00,\n",
       "         -2.74061200e+00,  -1.60585900e+00,  -4.18404200e+00,\n",
       "          1.37096600e+00],\n",
       "       [ -1.85982900e+00,  -3.59645000e-01,   1.22969700e+00,\n",
       "         -2.47654000e-01,   3.55208030e+01,   5.06489400e+00,\n",
       "          7.07268000e-01,   1.86184600e+00,   4.90200500e+00,\n",
       "         -8.56095000e-01],\n",
       "       [ -6.89354000e-01,  -1.59124800e+00,   2.30929700e+00,\n",
       "         -1.10997300e+00,   5.06489400e+00,   3.66734480e+01,\n",
       "         -2.18398000e+00,   8.65715000e-01,   1.47974700e+00,\n",
       "         -4.73341000e+00],\n",
       "       [ -7.47093600e+00,  -3.61449600e+00,  -3.28962000e-01,\n",
       "         -2.74061200e+00,   7.07268000e-01,  -2.18398000e+00,\n",
       "          3.46162510e+01,  -7.36080000e-02,   2.26873500e+00,\n",
       "         -5.37891000e-01],\n",
       "       [  2.05804200e+00,  -3.97248500e+00,   3.74747900e+00,\n",
       "         -1.60585900e+00,   1.86184600e+00,   8.65715000e-01,\n",
       "         -7.36080000e-02,   3.51363760e+01,  -1.90641100e+00,\n",
       "         -2.83689700e+00],\n",
       "       [  8.69336000e-01,   1.84601900e+00,   7.84522000e-01,\n",
       "         -4.18404200e+00,   4.90200500e+00,   1.47974700e+00,\n",
       "          2.26873500e+00,  -1.90641100e+00,   3.25591760e+01,\n",
       "         -2.17950000e-02],\n",
       "       [  1.76682700e+00,   4.95970200e+00,  -1.75377600e+00,\n",
       "          1.37096600e+00,  -8.56095000e-01,  -4.73341000e+00,\n",
       "         -5.37891000e-01,  -2.83689700e+00,  -2.17950000e-02,\n",
       "          3.06617410e+01]])"
      ]
     },
     "execution_count": 12,
     "metadata": {},
     "output_type": "execute_result"
    }
   ],
   "source": [
    "# On transforme la sortie en tableau\n",
    "liste_naive=[]\n",
    "for k in range(p):\n",
    "    liste_naive.append([AT_A_naive[k*p + i][1] for i in range(p)])\n",
    "\n",
    "AT_A_finale_naive = np.array(liste_naive)\n",
    "AT_A_finale_naive"
   ]
  },
  {
   "cell_type": "markdown",
   "metadata": {},
   "source": [
    "### Méthode naïve : calcul de performance"
   ]
  },
  {
   "cell_type": "code",
   "execution_count": 13,
   "metadata": {
    "collapsed": false,
    "scrolled": true
   },
   "outputs": [
    {
     "name": "stdout",
     "output_type": "stream",
     "text": [
      "0.9346730709075928\n"
     ]
    }
   ],
   "source": [
    "time1=time.time()\n",
    "\n",
    "mat_finale_naive = new_A.map(a_ij).join(new_A.map(a_ij)).map(produit_matrice).map(lambda row: ((row[0], row[1]), row[2])).reduceByKey(add)\n",
    "AT_A_naive = mat_finale_naive.collect()\n",
    "AT_A_naive.sort()\n",
    "\n",
    "liste_naive=[]\n",
    "for k in range(p):\n",
    "    liste_naive.append([AT_A_naive[k*p + i][1] for i in range(p)])\n",
    "AT_A_finale_naive = np.array(liste_naive)\n",
    "    \n",
    "time2=time.time()\n",
    "print(time2-time1)\n"
   ]
  },
  {
   "cell_type": "markdown",
   "metadata": {},
   "source": [
    "## 3. Méthode DIMSUM"
   ]
  },
  {
   "cell_type": "markdown",
   "metadata": {},
   "source": [
    "### Algorithme 3"
   ]
  },
  {
   "cell_type": "code",
   "execution_count": 14,
   "metadata": {
    "collapsed": true,
    "scrolled": true
   },
   "outputs": [],
   "source": [
    "def carre(row):\n",
    "    r, c, aij = row\n",
    "    return c,aij**2\n",
    "\n",
    "def racine(row):\n",
    "    c, aij = row\n",
    "    return c,aij**1/2"
   ]
  },
  {
   "cell_type": "code",
   "execution_count": 15,
   "metadata": {
    "collapsed": false,
    "scrolled": true
   },
   "outputs": [
    {
     "data": {
      "text/plain": [
       "[(0, 16.222612500000004),\n",
       " (8, 16.279587999999997),\n",
       " (2, 16.401254),\n",
       " (4, 17.7604015),\n",
       " (6, 17.3081255),\n",
       " (1, 19.6173845),\n",
       " (3, 16.765423500000004),\n",
       " (9, 15.330870500000003),\n",
       " (5, 18.336724),\n",
       " (7, 17.568188)]"
      ]
     },
     "execution_count": 15,
     "metadata": {},
     "output_type": "execute_result"
    }
   ],
   "source": [
    "norme=new_A.map(carre).reduceByKey(add).map(racine)\n",
    "norme.take(10)"
   ]
  },
  {
   "cell_type": "code",
   "execution_count": 16,
   "metadata": {
    "collapsed": false,
    "scrolled": true
   },
   "outputs": [],
   "source": [
    "norme_c=norme.collect()\n",
    "norme_c.sort()\n",
    "n_c_df=sqlContext.createDataFrame(norme)\n",
    "n_c=n_c_df.toPandas()"
   ]
  },
  {
   "cell_type": "code",
   "execution_count": 17,
   "metadata": {
    "collapsed": false,
    "scrolled": true
   },
   "outputs": [
    {
     "data": {
      "text/html": [
       "<div>\n",
       "<table border=\"1\" class=\"dataframe\">\n",
       "  <thead>\n",
       "    <tr style=\"text-align: right;\">\n",
       "      <th></th>\n",
       "      <th>_1</th>\n",
       "      <th>_2</th>\n",
       "    </tr>\n",
       "  </thead>\n",
       "  <tbody>\n",
       "    <tr>\n",
       "      <th>0</th>\n",
       "      <td>0</td>\n",
       "      <td>16.222613</td>\n",
       "    </tr>\n",
       "    <tr>\n",
       "      <th>1</th>\n",
       "      <td>1</td>\n",
       "      <td>19.617385</td>\n",
       "    </tr>\n",
       "    <tr>\n",
       "      <th>2</th>\n",
       "      <td>2</td>\n",
       "      <td>16.401254</td>\n",
       "    </tr>\n",
       "    <tr>\n",
       "      <th>3</th>\n",
       "      <td>3</td>\n",
       "      <td>16.765424</td>\n",
       "    </tr>\n",
       "    <tr>\n",
       "      <th>4</th>\n",
       "      <td>4</td>\n",
       "      <td>17.760402</td>\n",
       "    </tr>\n",
       "    <tr>\n",
       "      <th>5</th>\n",
       "      <td>5</td>\n",
       "      <td>18.336724</td>\n",
       "    </tr>\n",
       "    <tr>\n",
       "      <th>6</th>\n",
       "      <td>6</td>\n",
       "      <td>17.308125</td>\n",
       "    </tr>\n",
       "    <tr>\n",
       "      <th>7</th>\n",
       "      <td>7</td>\n",
       "      <td>17.568188</td>\n",
       "    </tr>\n",
       "    <tr>\n",
       "      <th>8</th>\n",
       "      <td>8</td>\n",
       "      <td>16.279588</td>\n",
       "    </tr>\n",
       "    <tr>\n",
       "      <th>9</th>\n",
       "      <td>9</td>\n",
       "      <td>15.330871</td>\n",
       "    </tr>\n",
       "  </tbody>\n",
       "</table>\n",
       "</div>"
      ],
      "text/plain": [
       "   _1         _2\n",
       "0   0  16.222613\n",
       "1   1  19.617385\n",
       "2   2  16.401254\n",
       "3   3  16.765424\n",
       "4   4  17.760402\n",
       "5   5  18.336724\n",
       "6   6  17.308125\n",
       "7   7  17.568188\n",
       "8   8  16.279588\n",
       "9   9  15.330871"
      ]
     },
     "execution_count": 17,
     "metadata": {},
     "output_type": "execute_result"
    }
   ],
   "source": [
    "n_c.sort_values(by='_1',inplace=True)\n",
    "n_c.reset_index(inplace=True,drop=True)\n",
    "n_c"
   ]
  },
  {
   "cell_type": "code",
   "execution_count": 18,
   "metadata": {
    "collapsed": true,
    "scrolled": true
   },
   "outputs": [],
   "source": [
    "# On récupère tout d'abord les a_ij: on a ligne, (colonne,valeur): la clé est sur la ligne\n",
    "def a_ij(row):\n",
    "    return row[0], (row[1], row[2])"
   ]
  },
  {
   "cell_type": "code",
   "execution_count": 19,
   "metadata": {
    "collapsed": false,
    "scrolled": true
   },
   "outputs": [],
   "source": [
    "# On récupère ensuite les deux valeurs a_ij et a_ik associé au même i(clé) pour tous les j et k\n",
    "mat_join = new_A.map(a_ij).join(new_A.map(a_ij))\n",
    "#mat_join.take(15)"
   ]
  },
  {
   "cell_type": "code",
   "execution_count": 20,
   "metadata": {
    "collapsed": true,
    "scrolled": true
   },
   "outputs": [],
   "source": [
    "# On fait la multiplication a_ij*a_ik comme expliqué dans l'algo 3, on garde les j et k en clé\n",
    "def produit_matrice2(row):\n",
    "    index, ((j, vij), (k, vik)) = row\n",
    "    s=1\n",
    "    gamma=2*math.log(p)/s\n",
    "    norme=1/(n_c['_2'][j]*n_c['_2'][k])\n",
    "    proba=np.random.binomial(1,min(1,norme*gamma))\n",
    "    vjk = (vij*vik)*proba\n",
    "    \n",
    "    return j, k, vjk"
   ]
  },
  {
   "cell_type": "code",
   "execution_count": 21,
   "metadata": {
    "collapsed": false,
    "scrolled": true
   },
   "outputs": [
    {
     "data": {
      "text/plain": [
       "[(0, 0, 0.0),\n",
       " (0, 1, -0.0),\n",
       " (0, 2, -0.0),\n",
       " (0, 3, 0.0),\n",
       " (0, 4, -0.0),\n",
       " (0, 5, 0.0),\n",
       " (0, 6, -0.0),\n",
       " (0, 7, 0.0),\n",
       " (0, 8, -0.0),\n",
       " (0, 9, 0.0)]"
      ]
     },
     "execution_count": 21,
     "metadata": {},
     "output_type": "execute_result"
    }
   ],
   "source": [
    "mat_produit = mat_join.map(produit_matrice2)\n",
    "mat_produit.take(10)"
   ]
  },
  {
   "cell_type": "markdown",
   "metadata": {},
   "source": [
    "### Algorithme 4"
   ]
  },
  {
   "cell_type": "code",
   "execution_count": 22,
   "metadata": {
    "collapsed": false,
    "scrolled": true
   },
   "outputs": [
    {
     "data": {
      "text/plain": [
       "[((0, 0), (0, 0.0)),\n",
       " ((0, 1), (1, -0.0)),\n",
       " ((0, 2), (2, -0.0)),\n",
       " ((0, 3), (3, 0.0)),\n",
       " ((0, 4), (4, -0.0)),\n",
       " ((0, 5), (5, 0.0)),\n",
       " ((0, 6), (6, -0.0)),\n",
       " ((0, 7), (7, 0.0)),\n",
       " ((0, 8), (8, -0.0)),\n",
       " ((0, 9), (9, 0.0)),\n",
       " ((1, 0), (0, -0.0)),\n",
       " ((1, 1), (1, 0.0)),\n",
       " ((1, 2), (2, 0.0)),\n",
       " ((1, 3), (3, -0.0)),\n",
       " ((1, 4), (4, 0.0)),\n",
       " ((1, 5), (5, -0.0)),\n",
       " ((1, 6), (6, 0.0)),\n",
       " ((1, 7), (7, -0.0)),\n",
       " ((1, 8), (8, 0.0)),\n",
       " ((1, 9), (9, -0.0))]"
      ]
     },
     "execution_count": 22,
     "metadata": {},
     "output_type": "execute_result"
    }
   ],
   "source": [
    "# On crée une nouvelle clé\n",
    "mat_produit_key = mat_produit.map(lambda row: ((row[0], row[1]), (row[1],row[2])))\n",
    "mat_produit_key.take(20)"
   ]
  },
  {
   "cell_type": "code",
   "execution_count": 23,
   "metadata": {
    "collapsed": false,
    "scrolled": true
   },
   "outputs": [],
   "source": [
    "# On crée une nouvelle clé et on rajoute la valeur ci\n",
    "#mat_produit_key2 = mat_produit.map(lambda row: ((row[0], row[1]), n_c['_2'][row[1]], row[2]))\n",
    "#mat_produit_key2.take(20)"
   ]
  },
  {
   "cell_type": "code",
   "execution_count": 24,
   "metadata": {
    "collapsed": false,
    "scrolled": true
   },
   "outputs": [],
   "source": [
    "# On somme les vi\n",
    "def somme_ligne(rowi,rowj):\n",
    "    s=1\n",
    "    gamma=2*math.log(p)/s\n",
    "    norme=1/(n_c['_2'][rowi[0]]*n_c['_2'][rowj[0]])\n",
    "    bij = (rowi[1]+rowj[1])*(min(1,norme*gamma)==1)/norme+(rowi[1]+rowj[1])*(min(1,norme*gamma)!=1)/gamma\n",
    "    return (rowi[0],bij)"
   ]
  },
  {
   "cell_type": "code",
   "execution_count": 25,
   "metadata": {
    "collapsed": false,
    "scrolled": true
   },
   "outputs": [],
   "source": [
    "# On additionne par clé\n",
    "mat_finale = mat_produit_key.reduceByKey(somme_ligne).map(lambda row: ((row[0][0], row[0][1]), row[1][1]))"
   ]
  },
  {
   "cell_type": "code",
   "execution_count": 26,
   "metadata": {
    "collapsed": false,
    "scrolled": true
   },
   "outputs": [],
   "source": [
    "# Matrice finale \n",
    "AT_A = mat_finale.collect()"
   ]
  },
  {
   "cell_type": "code",
   "execution_count": 27,
   "metadata": {
    "collapsed": false,
    "scrolled": true
   },
   "outputs": [
    {
     "data": {
      "text/plain": [
       "[((0, 0), 6.0267498752147675e-13),\n",
       " ((0, 1), 0.0),\n",
       " ((0, 2), 0.0),\n",
       " ((0, 3), 0.0055333079394415926),\n",
       " ((0, 4), 4.5247069571333816e-10),\n",
       " ((0, 5), 4.9064993640878087e-06),\n",
       " ((0, 6), 0.0),\n",
       " ((0, 7), -0.015559096369874268),\n",
       " ((0, 8), -0.0001859760592758199),\n",
       " ((0, 9), -5.4125734292993565e-10),\n",
       " ((1, 0), -2.2311500672715644e-06),\n",
       " ((1, 1), 0.0),\n",
       " ((1, 2), 0.0083130605457868816),\n",
       " ((1, 3), 0.0016886309615544589),\n",
       " ((1, 4), 0.0),\n",
       " ((1, 5), 1.7676987148189476e-05),\n",
       " ((1, 6), 5.9951084072195629e-06),\n",
       " ((1, 7), 0.0010187670965045004),\n",
       " ((1, 8), -5.1766030834216801e-07),\n",
       " ((1, 9), -2.54175627974606e-10),\n",
       " ((2, 0), -1.53753704039889e-07),\n",
       " ((2, 1), -3.4057918501230574e-11),\n",
       " ((2, 2), 0.0019374988886879262),\n",
       " ((2, 3), -0.00021879361633240469),\n",
       " ((2, 4), 0.0),\n",
       " ((2, 5), 7.8223857015304307e-09),\n",
       " ((2, 6), 0.00065434385081148338),\n",
       " ((2, 7), 0.00044232006953321979),\n",
       " ((2, 8), 8.0973743305338108e-08),\n",
       " ((2, 9), -5.4009369119483448e-11),\n",
       " ((3, 0), -5.1835717872871734e-08),\n",
       " ((3, 1), -1.4701861576975748e-12),\n",
       " ((3, 2), -0.0011280055317275735),\n",
       " ((3, 3), 0.017776463831647597),\n",
       " ((3, 4), 0.0),\n",
       " ((3, 5), 2.6081030321740846e-08),\n",
       " ((3, 6), 0.00041907813584938169),\n",
       " ((3, 7), 0.0),\n",
       " ((3, 8), -3.8940082935484869e-08),\n",
       " ((3, 9), 0.0),\n",
       " ((4, 0), -1.1328822722232346e-17),\n",
       " ((4, 1), -1.5671744217395127e-12),\n",
       " ((4, 2), -9.4878831736619699e-13),\n",
       " ((4, 3), 0.028383757528101624),\n",
       " ((4, 4), 0.0),\n",
       " ((4, 5), 1.3968491190648905e-09),\n",
       " ((4, 6), -9.5159668051342992e-05),\n",
       " ((4, 7), 0.0),\n",
       " ((4, 8), 4.8149000778426134e-08),\n",
       " ((4, 9), 0.0),\n",
       " ((5, 0), 1.183160017424898e-10),\n",
       " ((5, 1), 1.1678555255513204e-19),\n",
       " ((5, 2), 0.0),\n",
       " ((5, 3), 0.0019992952579275993),\n",
       " ((5, 4), 0.0),\n",
       " ((5, 5), 2.4860787857062116e-13),\n",
       " ((5, 6), 0.0),\n",
       " ((5, 7), 0.0),\n",
       " ((5, 8), 1.1233559732571641e-08),\n",
       " ((5, 9), 0.0),\n",
       " ((6, 0), 1.7158162478943301e-12),\n",
       " ((6, 1), -2.8866344857636099e-14),\n",
       " ((6, 2), 0.0),\n",
       " ((6, 3), 0.00021334860222656707),\n",
       " ((6, 4), 0.0),\n",
       " ((6, 5), 2.4710332643785529e-11),\n",
       " ((6, 6), 0.0),\n",
       " ((6, 7), 0.0),\n",
       " ((6, 8), 0.0),\n",
       " ((6, 9), -3.1590513432532206e-09),\n",
       " ((7, 0), 6.7182637597298322e-12),\n",
       " ((7, 1), -1.9202321241509775e-13),\n",
       " ((7, 2), 0.0),\n",
       " ((7, 3), 4.1374306991960103e-06),\n",
       " ((7, 4), 5.1671684680043186e-16),\n",
       " ((7, 5), 4.7872933841743311e-13),\n",
       " ((7, 6), 0.0),\n",
       " ((7, 7), 1.0479010253751787e-08),\n",
       " ((7, 8), 0.0),\n",
       " ((7, 9), 1.1857112719958516e-10),\n",
       " ((8, 0), -2.5321257905737764e-14),\n",
       " ((8, 1), -4.8315621599030366e-14),\n",
       " ((8, 2), 0.0),\n",
       " ((8, 3), 3.658353023626474e-06),\n",
       " ((8, 4), 4.6473814513294614e-06),\n",
       " ((8, 5), 0.023701700293349462),\n",
       " ((8, 6), 0.0),\n",
       " ((8, 7), -2.738471497339585e-05),\n",
       " ((8, 8), 5.2264738707434157e-05),\n",
       " ((8, 9), -9.8078587240823416e-11),\n",
       " ((9, 0), 1.4469315319273425e-15),\n",
       " ((9, 1), 3.1523149645816172e-14),\n",
       " ((9, 2), 0.0),\n",
       " ((9, 3), -9.3005938304008889e-09),\n",
       " ((9, 4), 1.0926138467451037e-06),\n",
       " ((9, 5), 0.0028917420370056716),\n",
       " ((9, 6), 0.0),\n",
       " ((9, 7), 2.1259128448524523e-05),\n",
       " ((9, 8), 5.0364547572952043e-05),\n",
       " ((9, 9), 1.3371337769509204e-13)]"
      ]
     },
     "execution_count": 27,
     "metadata": {},
     "output_type": "execute_result"
    }
   ],
   "source": [
    "AT_A.sort()\n",
    "AT_A #On obtient bien une matrice 10*10"
   ]
  },
  {
   "cell_type": "code",
   "execution_count": 28,
   "metadata": {
    "collapsed": false,
    "scrolled": true
   },
   "outputs": [
    {
     "data": {
      "text/plain": [
       "array([[  6.02674988e-13,   0.00000000e+00,   0.00000000e+00,\n",
       "          5.53330794e-03,   4.52470696e-10,   4.90649936e-06,\n",
       "          0.00000000e+00,  -1.55590964e-02,  -1.85976059e-04,\n",
       "         -5.41257343e-10],\n",
       "       [ -2.23115007e-06,   0.00000000e+00,   8.31306055e-03,\n",
       "          1.68863096e-03,   0.00000000e+00,   1.76769871e-05,\n",
       "          5.99510841e-06,   1.01876710e-03,  -5.17660308e-07,\n",
       "         -2.54175628e-10],\n",
       "       [ -1.53753704e-07,  -3.40579185e-11,   1.93749889e-03,\n",
       "         -2.18793616e-04,   0.00000000e+00,   7.82238570e-09,\n",
       "          6.54343851e-04,   4.42320070e-04,   8.09737433e-08,\n",
       "         -5.40093691e-11],\n",
       "       [ -5.18357179e-08,  -1.47018616e-12,  -1.12800553e-03,\n",
       "          1.77764638e-02,   0.00000000e+00,   2.60810303e-08,\n",
       "          4.19078136e-04,   0.00000000e+00,  -3.89400829e-08,\n",
       "          0.00000000e+00],\n",
       "       [ -1.13288227e-17,  -1.56717442e-12,  -9.48788317e-13,\n",
       "          2.83837575e-02,   0.00000000e+00,   1.39684912e-09,\n",
       "         -9.51596681e-05,   0.00000000e+00,   4.81490008e-08,\n",
       "          0.00000000e+00],\n",
       "       [  1.18316002e-10,   1.16785553e-19,   0.00000000e+00,\n",
       "          1.99929526e-03,   0.00000000e+00,   2.48607879e-13,\n",
       "          0.00000000e+00,   0.00000000e+00,   1.12335597e-08,\n",
       "          0.00000000e+00],\n",
       "       [  1.71581625e-12,  -2.88663449e-14,   0.00000000e+00,\n",
       "          2.13348602e-04,   0.00000000e+00,   2.47103326e-11,\n",
       "          0.00000000e+00,   0.00000000e+00,   0.00000000e+00,\n",
       "         -3.15905134e-09],\n",
       "       [  6.71826376e-12,  -1.92023212e-13,   0.00000000e+00,\n",
       "          4.13743070e-06,   5.16716847e-16,   4.78729338e-13,\n",
       "          0.00000000e+00,   1.04790103e-08,   0.00000000e+00,\n",
       "          1.18571127e-10],\n",
       "       [ -2.53212579e-14,  -4.83156216e-14,   0.00000000e+00,\n",
       "          3.65835302e-06,   4.64738145e-06,   2.37017003e-02,\n",
       "          0.00000000e+00,  -2.73847150e-05,   5.22647387e-05,\n",
       "         -9.80785872e-11],\n",
       "       [  1.44693153e-15,   3.15231496e-14,   0.00000000e+00,\n",
       "         -9.30059383e-09,   1.09261385e-06,   2.89174204e-03,\n",
       "          0.00000000e+00,   2.12591284e-05,   5.03645476e-05,\n",
       "          1.33713378e-13]])"
      ]
     },
     "execution_count": 28,
     "metadata": {},
     "output_type": "execute_result"
    }
   ],
   "source": [
    "liste=[]\n",
    "for k in range(p):\n",
    "    liste.append([AT_A[k*p + i][1] for i in range(p)])\n",
    "\n",
    "AT_A_finale = np.array(liste)\n",
    "AT_A_finale"
   ]
  },
  {
   "cell_type": "code",
   "execution_count": 29,
   "metadata": {
    "collapsed": false,
    "scrolled": true
   },
   "outputs": [
    {
     "name": "stdout",
     "output_type": "stream",
     "text": [
      "3.5056869983673096\n"
     ]
    }
   ],
   "source": [
    "time1=time.time()\n",
    "\n",
    "norme=new_A.map(carre).reduceByKey(add).map(racine)\n",
    "norme_c=norme.collect()\n",
    "norme_c.sort()\n",
    "n_c_df=sqlContext.createDataFrame(norme)\n",
    "n_c=n_c_df.toPandas()\n",
    "n_c.sort_values(by='_1',inplace=True)\n",
    "n_c.reset_index(inplace=True,drop=True)\n",
    "\n",
    "mat_finale = new_A.map(a_ij).join(new_A.map(a_ij)).map(produit_matrice2).map(lambda row: ((row[0], row[1]), (row[1],row[2]))).reduceByKey(somme_ligne).map(lambda row: ((row[0][0], row[0][1]), row[1][1]))\n",
    "AT_A = mat_finale.collect()\n",
    "AT_A.sort()\n",
    "liste=[]\n",
    "for k in range(p):\n",
    "    liste.append([AT_A[k*p + i][1] for i in range(p)])\n",
    "AT_A_finale = np.array(liste)\n",
    "\n",
    "time2=time.time()\n",
    "print(time2-time1)"
   ]
  },
  {
   "cell_type": "markdown",
   "metadata": {
    "collapsed": false
   },
   "source": [
    "## 4. Comparaison des deux méthodes"
   ]
  },
  {
   "cell_type": "markdown",
   "metadata": {},
   "source": [
    "### Calcul de la matrice B avec la méthode DIMSUM"
   ]
  },
  {
   "cell_type": "markdown",
   "metadata": {},
   "source": [
    "Nous allons comparer les deux matrices $DBD$ et $A^TA$ comme expliqué dans l'article."
   ]
  },
  {
   "cell_type": "code",
   "execution_count": 30,
   "metadata": {
    "collapsed": false,
    "scrolled": true
   },
   "outputs": [],
   "source": [
    "# Création de la matrice D\n",
    "D=pandas.DataFrame(np.diag(n_c['_2']))\n",
    "B=pandas.DataFrame(AT_A_finale)\n",
    "DBD=D.dot(B.dot(D))\n",
    "\n",
    "ATA=AT_A_finale_naive"
   ]
  },
  {
   "cell_type": "code",
   "execution_count": 31,
   "metadata": {
    "collapsed": false
   },
   "outputs": [],
   "source": [
    "mat_erreur=(DBD-ATA)**2\n",
    "erreur=sum(mat_erreur.sum())/(n*p)"
   ]
  },
  {
   "cell_type": "code",
   "execution_count": 32,
   "metadata": {
    "collapsed": false
   },
   "outputs": [
    {
     "data": {
      "text/plain": [
       "1232.1811200230127"
      ]
     },
     "execution_count": 32,
     "metadata": {},
     "output_type": "execute_result"
    }
   ],
   "source": [
    "erreur*100"
   ]
  }
 ],
 "metadata": {
  "anaconda-cloud": {},
  "kernelspec": {
   "display_name": "Python [default]",
   "language": "python",
   "name": "python3"
  },
  "language_info": {
   "codemirror_mode": {
    "name": "ipython",
    "version": 3
   },
   "file_extension": ".py",
   "mimetype": "text/x-python",
   "name": "python",
   "nbconvert_exporter": "python",
   "pygments_lexer": "ipython3",
   "version": "3.5.2"
  }
 },
 "nbformat": 4,
 "nbformat_minor": 1
}
